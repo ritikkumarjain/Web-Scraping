{
 "cells": [
  {
   "cell_type": "code",
   "execution_count": 1,
   "metadata": {},
   "outputs": [],
   "source": [
    "from bs4 import BeautifulSoup as soup\n",
    "from urllib.request import Request, urlopen\n",
    "from urllib.error import HTTPError,URLError\n",
    "import re\n",
    "import pandas as pd"
   ]
  },
  {
   "cell_type": "code",
   "execution_count": 2,
   "metadata": {},
   "outputs": [],
   "source": [
    "headers={'user-Agent':'Mozilla/5.0'}\n",
    "url = \"https://www.flipkart.com/search?q=laptop&sid=6bo%2Cb5g&as=on&as-show=on&otracker=AS_QueryStore_OrganicAutoSuggest_1_6_na_na_na&otracker1=AS_QueryStore_OrganicAutoSuggest_1_6_na_na_na&as-pos=1&as-type=RECENT&suggestionId=laptop%7CLaptops&requestId=7d212dab-8e82-4f22-adaf-3c1214efa71b&as-searchtext=laptop\"\n"
   ]
  },
  {
   "cell_type": "code",
   "execution_count": 3,
   "metadata": {},
   "outputs": [
    {
     "name": "stdout",
     "output_type": "stream",
     "text": [
      "It Worked!\n"
     ]
    }
   ],
   "source": [
    "try: \n",
    "    req =Request(url,headers=headers)\n",
    "    html = urlopen(req)\n",
    "except HTTPError as e:\n",
    "    print(e)\n",
    "except URLError as e:\n",
    "    print('The server could not be found!')\n",
    "else:\n",
    "    print('It Worked!')"
   ]
  },
  {
   "cell_type": "code",
   "execution_count": 4,
   "metadata": {},
   "outputs": [],
   "source": [
    "req = Request(url, headers={'user-Agent':'Mozilla/5.0'})\n",
    "webpage = urlopen(req)\n",
    "bs = soup(webpage,'html5lib')\n",
    "webpage.close()"
   ]
  },
  {
   "cell_type": "code",
   "execution_count": 5,
   "metadata": {},
   "outputs": [
    {
     "data": {
      "text/plain": [
       "<p class=\"_2-N8zT\">Classy product</p>"
      ]
     },
     "execution_count": 5,
     "metadata": {},
     "output_type": "execute_result"
    }
   ],
   "source": [
    "bs.p"
   ]
  },
  {
   "cell_type": "markdown",
   "metadata": {},
   "source": [
    "# Name of the product displayed"
   ]
  },
  {
   "cell_type": "code",
   "execution_count": 6,
   "metadata": {},
   "outputs": [
    {
     "data": {
      "text/plain": [
       "24"
      ]
     },
     "execution_count": 6,
     "metadata": {},
     "output_type": "execute_result"
    }
   ],
   "source": [
    "names= bs.findAll('div',class_='_4rR01T')\n",
    "len(names)"
   ]
  },
  {
   "cell_type": "code",
   "execution_count": 7,
   "metadata": {},
   "outputs": [
    {
     "data": {
      "text/plain": [
       "<div class=\"_4rR01T\">HP 14s Core i3 10th Gen - (8 GB/256 GB SSD/Windows 10 Home) 14s-cf3074TU Thin and Light Laptop</div>"
      ]
     },
     "execution_count": 7,
     "metadata": {},
     "output_type": "execute_result"
    }
   ],
   "source": [
    "names[1]"
   ]
  },
  {
   "cell_type": "code",
   "execution_count": 8,
   "metadata": {},
   "outputs": [
    {
     "name": "stdout",
     "output_type": "stream",
     "text": [
      "24\n"
     ]
    }
   ],
   "source": [
    "name=[]\n",
    "for i in range(0,len(names)):\n",
    "    n = names[i].text.split()[0:2]\n",
    "    na = ' '.join(n)\n",
    "    name.append(na)\n",
    "    #ram = names[i].text.split()[9]\n",
    "    #ram=re.split('-(/',ratings[i])\n",
    "    \n",
    "    \n",
    "    #print(name)\n",
    "print(len(name))"
   ]
  },
  {
   "cell_type": "markdown",
   "metadata": {},
   "source": [
    "# Discounted Price of the product"
   ]
  },
  {
   "cell_type": "code",
   "execution_count": 9,
   "metadata": {},
   "outputs": [],
   "source": [
    "# bs.findAll('div',class_=\"_30jeq3 _1_WHN1\")\n",
    "d_price = bs.find_all('div',attrs={'class':\"_30jeq3 _1_WHN1\"})\n"
   ]
  },
  {
   "cell_type": "code",
   "execution_count": 10,
   "metadata": {},
   "outputs": [
    {
     "name": "stdout",
     "output_type": "stream",
     "text": [
      "24\n"
     ]
    }
   ],
   "source": [
    "discount=[]\n",
    "for i in range(0,len(d_price)):\n",
    "    dis = d_price[i].text\n",
    "    discount.append(dis)\n",
    "print(len(discount))"
   ]
  },
  {
   "cell_type": "markdown",
   "metadata": {},
   "source": [
    "# Original Price of product"
   ]
  },
  {
   "cell_type": "code",
   "execution_count": 11,
   "metadata": {},
   "outputs": [],
   "source": [
    "o_price = bs.findAll('div',{'class':'_3I9_wc _27UcVY'})"
   ]
  },
  {
   "cell_type": "code",
   "execution_count": 28,
   "metadata": {},
   "outputs": [
    {
     "name": "stdout",
     "output_type": "stream",
     "text": [
      "['₹34,490', '₹26,407', '₹89,990', '₹58,490', '₹62,990', '₹57,600', '₹44,272', '₹94,990', '₹1,49,999', '₹82,490', '₹88,990', '₹38,246', '₹84,999', '₹51,890', '₹24,784', '₹46,359', '₹59,671', '₹46,390', '₹50,098', '₹45,602', '₹24,389', '₹55,431']\n"
     ]
    }
   ],
   "source": [
    "original=[]\n",
    "for i in range(0,len(o_price)):\n",
    "    orig = o_price[i].text\n",
    "    original.append(orig)\n",
    "\n",
    "print(original)"
   ]
  },
  {
   "cell_type": "markdown",
   "metadata": {},
   "source": [
    "# Total Ratings of product"
   ]
  },
  {
   "cell_type": "code",
   "execution_count": 13,
   "metadata": {},
   "outputs": [],
   "source": [
    "rat = bs.findAll('div',class_=\"_3LWZlK\")\n"
   ]
  },
  {
   "cell_type": "code",
   "execution_count": 14,
   "metadata": {},
   "outputs": [
    {
     "name": "stdout",
     "output_type": "stream",
     "text": [
      "24\n"
     ]
    }
   ],
   "source": [
    "ratings=[]\n",
    "for i in range(0,24):\n",
    "    rati = rat[i].text\n",
    "    ratings.append(rati)\n",
    "    \n",
    "    \n",
    "print(len(ratings))"
   ]
  },
  {
   "cell_type": "markdown",
   "metadata": {},
   "source": [
    "# Specifications of product"
   ]
  },
  {
   "cell_type": "code",
   "execution_count": 15,
   "metadata": {},
   "outputs": [],
   "source": [
    "specs= bs.findAll('li',class_=\"rgWa7D\")\n"
   ]
  },
  {
   "cell_type": "code",
   "execution_count": 16,
   "metadata": {},
   "outputs": [
    {
     "data": {
      "text/plain": [
       "'39.62 cm (15.6 inch) Display'"
      ]
     },
     "execution_count": 16,
     "metadata": {},
     "output_type": "execute_result"
    }
   ],
   "source": [
    "specs[4].text"
   ]
  },
  {
   "cell_type": "markdown",
   "metadata": {},
   "source": [
    "# Percentage of discount given"
   ]
  },
  {
   "cell_type": "code",
   "execution_count": 17,
   "metadata": {},
   "outputs": [],
   "source": [
    "percent = bs.findAll('div',class_='_3Ay6Sb')"
   ]
  },
  {
   "cell_type": "code",
   "execution_count": 19,
   "metadata": {},
   "outputs": [
    {
     "name": "stdout",
     "output_type": "stream",
     "text": [
      "24\n"
     ]
    }
   ],
   "source": [
    "percentage=[]\n",
    "for i in range(0,24):\n",
    "    perc = percent[i].text.split()[0]\n",
    "    percentage.append(perc)\n",
    "    \n",
    "    \n",
    "print(len(percentage))"
   ]
  },
  {
   "cell_type": "markdown",
   "metadata": {},
   "source": [
    "# No. of Ratings and Reviews given"
   ]
  },
  {
   "cell_type": "code",
   "execution_count": 20,
   "metadata": {},
   "outputs": [],
   "source": [
    "r_r =bs.find_all('span',class_='_2_R_DZ')"
   ]
  },
  {
   "cell_type": "code",
   "execution_count": 21,
   "metadata": {},
   "outputs": [
    {
     "name": "stdout",
     "output_type": "stream",
     "text": [
      "24 \t 24\n"
     ]
    }
   ],
   "source": [
    "n_ratings=[]\n",
    "n_reviews=[]\n",
    "for i in range(0,len(r_r)):\n",
    "    n_ra = r_r[i].text.split()[0]\n",
    "    n_ratings.append(n_ra)\n",
    "    n_re = r_r[i].text.split()[-2]\n",
    "    n_reviews.append(n_re)\n",
    "\n",
    "\n",
    "\n",
    "    \n",
    "print(len(n_ratings),'\\t',len(n_reviews))\n"
   ]
  },
  {
   "cell_type": "code",
   "execution_count": null,
   "metadata": {},
   "outputs": [],
   "source": [
    "import csv"
   ]
  },
  {
   "cell_type": "code",
   "execution_count": 22,
   "metadata": {},
   "outputs": [],
   "source": [
    "dict={'Name':name,\n",
    "     'Discounted_Price':discount,\n",
    "    #'Original_Price':original,\n",
    "     'Ratings':ratings,\n",
    "     'Discount_Percentage':percentage,\n",
    "     'No._of_Ratings_given':n_ratings,\n",
    "      'No.of_Reviews_given':n_reviews\n",
    "     }"
   ]
  },
  {
   "cell_type": "code",
   "execution_count": 23,
   "metadata": {},
   "outputs": [],
   "source": [
    "data=pd.DataFrame(dict)"
   ]
  },
  {
   "cell_type": "code",
   "execution_count": 25,
   "metadata": {},
   "outputs": [
    {
     "data": {
      "text/html": [
       "<div>\n",
       "<style scoped>\n",
       "    .dataframe tbody tr th:only-of-type {\n",
       "        vertical-align: middle;\n",
       "    }\n",
       "\n",
       "    .dataframe tbody tr th {\n",
       "        vertical-align: top;\n",
       "    }\n",
       "\n",
       "    .dataframe thead th {\n",
       "        text-align: right;\n",
       "    }\n",
       "</style>\n",
       "<table border=\"1\" class=\"dataframe\">\n",
       "  <thead>\n",
       "    <tr style=\"text-align: right;\">\n",
       "      <th></th>\n",
       "      <th>Name</th>\n",
       "      <th>Discounted_Price</th>\n",
       "      <th>Ratings</th>\n",
       "      <th>Discount_Percentage</th>\n",
       "      <th>No._of_Ratings_given</th>\n",
       "      <th>No.of_Reviews_given</th>\n",
       "    </tr>\n",
       "  </thead>\n",
       "  <tbody>\n",
       "    <tr>\n",
       "      <th>0</th>\n",
       "      <td>Lenovo Ideapad</td>\n",
       "      <td>₹27,990</td>\n",
       "      <td>4.1</td>\n",
       "      <td>18%</td>\n",
       "      <td>409</td>\n",
       "      <td>45</td>\n",
       "    </tr>\n",
       "    <tr>\n",
       "      <th>1</th>\n",
       "      <td>HP 14s</td>\n",
       "      <td>₹36,990</td>\n",
       "      <td>4.2</td>\n",
       "      <td>7%</td>\n",
       "      <td>3,684</td>\n",
       "      <td>403</td>\n",
       "    </tr>\n",
       "    <tr>\n",
       "      <th>2</th>\n",
       "      <td>HP 15s</td>\n",
       "      <td>₹24,550</td>\n",
       "      <td>4</td>\n",
       "      <td>37%</td>\n",
       "      <td>943</td>\n",
       "      <td>117</td>\n",
       "    </tr>\n",
       "    <tr>\n",
       "      <th>3</th>\n",
       "      <td>acer Aspire</td>\n",
       "      <td>₹55,990</td>\n",
       "      <td>4.5</td>\n",
       "      <td>26%</td>\n",
       "      <td>763</td>\n",
       "      <td>128</td>\n",
       "    </tr>\n",
       "    <tr>\n",
       "      <th>4</th>\n",
       "      <td>Lenovo Ideapad</td>\n",
       "      <td>₹42,990</td>\n",
       "      <td>4.2</td>\n",
       "      <td>20%</td>\n",
       "      <td>1,063</td>\n",
       "      <td>150</td>\n",
       "    </tr>\n",
       "    <tr>\n",
       "      <th>5</th>\n",
       "      <td>ASUS VivoBook</td>\n",
       "      <td>₹49,990</td>\n",
       "      <td>4.5</td>\n",
       "      <td>11%</td>\n",
       "      <td>656</td>\n",
       "      <td>134</td>\n",
       "    </tr>\n",
       "    <tr>\n",
       "      <th>6</th>\n",
       "      <td>acer Aspire</td>\n",
       "      <td>₹50,990</td>\n",
       "      <td>4.4</td>\n",
       "      <td>9%</td>\n",
       "      <td>424</td>\n",
       "      <td>55</td>\n",
       "    </tr>\n",
       "    <tr>\n",
       "      <th>7</th>\n",
       "      <td>DELL Inspiron</td>\n",
       "      <td>₹39,940</td>\n",
       "      <td>3</td>\n",
       "      <td>42%</td>\n",
       "      <td>4</td>\n",
       "      <td>0</td>\n",
       "    </tr>\n",
       "    <tr>\n",
       "      <th>8</th>\n",
       "      <td>MSI GF63</td>\n",
       "      <td>₹54,990</td>\n",
       "      <td>4.5</td>\n",
       "      <td>22%</td>\n",
       "      <td>3,512</td>\n",
       "      <td>497</td>\n",
       "    </tr>\n",
       "    <tr>\n",
       "      <th>9</th>\n",
       "      <td>DELL Inspiron</td>\n",
       "      <td>₹28,906</td>\n",
       "      <td>4.4</td>\n",
       "      <td>27%</td>\n",
       "      <td>16</td>\n",
       "      <td>4</td>\n",
       "    </tr>\n",
       "    <tr>\n",
       "      <th>10</th>\n",
       "      <td>acer Predator</td>\n",
       "      <td>₹1,16,990</td>\n",
       "      <td>4.7</td>\n",
       "      <td>24%</td>\n",
       "      <td>20</td>\n",
       "      <td>7</td>\n",
       "    </tr>\n",
       "    <tr>\n",
       "      <th>11</th>\n",
       "      <td>Lenovo Ideapad</td>\n",
       "      <td>₹59,990</td>\n",
       "      <td>4.5</td>\n",
       "      <td>8%</td>\n",
       "      <td>1,141</td>\n",
       "      <td>171</td>\n",
       "    </tr>\n",
       "    <tr>\n",
       "      <th>12</th>\n",
       "      <td>Lenovo Legion</td>\n",
       "      <td>₹66,990</td>\n",
       "      <td>4.6</td>\n",
       "      <td>35%</td>\n",
       "      <td>156</td>\n",
       "      <td>27</td>\n",
       "    </tr>\n",
       "    <tr>\n",
       "      <th>13</th>\n",
       "      <td>HP 15s</td>\n",
       "      <td>₹34,990</td>\n",
       "      <td>4.3</td>\n",
       "      <td>34%</td>\n",
       "      <td>431</td>\n",
       "      <td>51</td>\n",
       "    </tr>\n",
       "    <tr>\n",
       "      <th>14</th>\n",
       "      <td>acer Aspire</td>\n",
       "      <td>₹54,990</td>\n",
       "      <td>4.4</td>\n",
       "      <td>3%</td>\n",
       "      <td>1,132</td>\n",
       "      <td>153</td>\n",
       "    </tr>\n",
       "    <tr>\n",
       "      <th>15</th>\n",
       "      <td>Lenovo Ideapad</td>\n",
       "      <td>₹33,990</td>\n",
       "      <td>4.1</td>\n",
       "      <td>5%</td>\n",
       "      <td>617</td>\n",
       "      <td>88</td>\n",
       "    </tr>\n",
       "    <tr>\n",
       "      <th>16</th>\n",
       "      <td>HP 15s</td>\n",
       "      <td>₹23,990</td>\n",
       "      <td>4</td>\n",
       "      <td>16%</td>\n",
       "      <td>398</td>\n",
       "      <td>35</td>\n",
       "    </tr>\n",
       "    <tr>\n",
       "      <th>17</th>\n",
       "      <td>Mi Notebook</td>\n",
       "      <td>₹43,999</td>\n",
       "      <td>4.3</td>\n",
       "      <td>3%</td>\n",
       "      <td>2,715</td>\n",
       "      <td>313</td>\n",
       "    </tr>\n",
       "    <tr>\n",
       "      <th>18</th>\n",
       "      <td>HP Pavilion</td>\n",
       "      <td>₹49,990</td>\n",
       "      <td>4.4</td>\n",
       "      <td>8%</td>\n",
       "      <td>1,267</td>\n",
       "      <td>144</td>\n",
       "    </tr>\n",
       "    <tr>\n",
       "      <th>19</th>\n",
       "      <td>ASUS VivoBook</td>\n",
       "      <td>₹44,990</td>\n",
       "      <td>4.5</td>\n",
       "      <td>6%</td>\n",
       "      <td>37</td>\n",
       "      <td>9</td>\n",
       "    </tr>\n",
       "    <tr>\n",
       "      <th>20</th>\n",
       "      <td>HP Pavilion</td>\n",
       "      <td>₹45,990</td>\n",
       "      <td>4.4</td>\n",
       "      <td>9%</td>\n",
       "      <td>315</td>\n",
       "      <td>38</td>\n",
       "    </tr>\n",
       "    <tr>\n",
       "      <th>21</th>\n",
       "      <td>DELL Vostro</td>\n",
       "      <td>₹42,499</td>\n",
       "      <td>4.2</td>\n",
       "      <td>6%</td>\n",
       "      <td>181</td>\n",
       "      <td>25</td>\n",
       "    </tr>\n",
       "    <tr>\n",
       "      <th>22</th>\n",
       "      <td>ASUS Celeron</td>\n",
       "      <td>₹21,990</td>\n",
       "      <td>3.9</td>\n",
       "      <td>22%</td>\n",
       "      <td>6,361</td>\n",
       "      <td>831</td>\n",
       "    </tr>\n",
       "    <tr>\n",
       "      <th>23</th>\n",
       "      <td>ASUS Core</td>\n",
       "      <td>₹51,990</td>\n",
       "      <td>4.3</td>\n",
       "      <td>8%</td>\n",
       "      <td>461</td>\n",
       "      <td>66</td>\n",
       "    </tr>\n",
       "  </tbody>\n",
       "</table>\n",
       "</div>"
      ],
      "text/plain": [
       "              Name Discounted_Price Ratings Discount_Percentage  \\\n",
       "0   Lenovo Ideapad          ₹27,990     4.1                 18%   \n",
       "1           HP 14s          ₹36,990     4.2                  7%   \n",
       "2           HP 15s          ₹24,550       4                 37%   \n",
       "3      acer Aspire          ₹55,990     4.5                 26%   \n",
       "4   Lenovo Ideapad          ₹42,990     4.2                 20%   \n",
       "5    ASUS VivoBook          ₹49,990     4.5                 11%   \n",
       "6      acer Aspire          ₹50,990     4.4                  9%   \n",
       "7    DELL Inspiron          ₹39,940       3                 42%   \n",
       "8         MSI GF63          ₹54,990     4.5                 22%   \n",
       "9    DELL Inspiron          ₹28,906     4.4                 27%   \n",
       "10   acer Predator        ₹1,16,990     4.7                 24%   \n",
       "11  Lenovo Ideapad          ₹59,990     4.5                  8%   \n",
       "12   Lenovo Legion          ₹66,990     4.6                 35%   \n",
       "13          HP 15s          ₹34,990     4.3                 34%   \n",
       "14     acer Aspire          ₹54,990     4.4                  3%   \n",
       "15  Lenovo Ideapad          ₹33,990     4.1                  5%   \n",
       "16          HP 15s          ₹23,990       4                 16%   \n",
       "17     Mi Notebook          ₹43,999     4.3                  3%   \n",
       "18     HP Pavilion          ₹49,990     4.4                  8%   \n",
       "19   ASUS VivoBook          ₹44,990     4.5                  6%   \n",
       "20     HP Pavilion          ₹45,990     4.4                  9%   \n",
       "21     DELL Vostro          ₹42,499     4.2                  6%   \n",
       "22    ASUS Celeron          ₹21,990     3.9                 22%   \n",
       "23       ASUS Core          ₹51,990     4.3                  8%   \n",
       "\n",
       "   No._of_Ratings_given No.of_Reviews_given  \n",
       "0                   409                  45  \n",
       "1                 3,684                 403  \n",
       "2                   943                 117  \n",
       "3                   763                 128  \n",
       "4                 1,063                 150  \n",
       "5                   656                 134  \n",
       "6                   424                  55  \n",
       "7                     4                   0  \n",
       "8                 3,512                 497  \n",
       "9                    16                   4  \n",
       "10                   20                   7  \n",
       "11                1,141                 171  \n",
       "12                  156                  27  \n",
       "13                  431                  51  \n",
       "14                1,132                 153  \n",
       "15                  617                  88  \n",
       "16                  398                  35  \n",
       "17                2,715                 313  \n",
       "18                1,267                 144  \n",
       "19                   37                   9  \n",
       "20                  315                  38  \n",
       "21                  181                  25  \n",
       "22                6,361                 831  \n",
       "23                  461                  66  "
      ]
     },
     "execution_count": 25,
     "metadata": {},
     "output_type": "execute_result"
    }
   ],
   "source": [
    "data.head(50)"
   ]
  },
  {
   "cell_type": "code",
   "execution_count": 26,
   "metadata": {},
   "outputs": [],
   "source": [
    "data.to_csv('Flipkart_laptop_deals.csv',index=False)"
   ]
  },
  {
   "cell_type": "code",
   "execution_count": null,
   "metadata": {},
   "outputs": [],
   "source": []
  }
 ],
 "metadata": {
  "kernelspec": {
   "display_name": "Python 3",
   "language": "python",
   "name": "python3"
  },
  "language_info": {
   "codemirror_mode": {
    "name": "ipython",
    "version": 3
   },
   "file_extension": ".py",
   "mimetype": "text/x-python",
   "name": "python",
   "nbconvert_exporter": "python",
   "pygments_lexer": "ipython3",
   "version": "3.8.3"
  }
 },
 "nbformat": 4,
 "nbformat_minor": 4
}
